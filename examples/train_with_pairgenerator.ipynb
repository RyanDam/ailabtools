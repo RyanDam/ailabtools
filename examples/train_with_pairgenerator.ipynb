{
 "cells": [
  {
   "cell_type": "code",
   "execution_count": 17,
   "metadata": {},
   "outputs": [
    {
     "data": {
      "text/html": [
       "<style type=\"text/css\"></style>Customized changes loaded."
      ],
      "text/plain": [
       "<IPython.core.display.HTML object>"
      ]
     },
     "metadata": {},
     "output_type": "display_data"
    }
   ],
   "source": [
    "from ailabtools import common as cms\n",
    "cms.jpl_light()\n",
    "cms.plt_light()"
   ]
  },
  {
   "cell_type": "code",
   "execution_count": 6,
   "metadata": {},
   "outputs": [
    {
     "name": "stderr",
     "output_type": "stream",
     "text": [
      "/home/cpu11128-local/.virtualenvs/AIlab/lib/python3.5/site-packages/h5py/__init__.py:36: FutureWarning: Conversion of the second argument of issubdtype from `float` to `np.floating` is deprecated. In future, it will be treated as `np.float64 == np.dtype(float).type`.\n",
      "  from ._conv import register_converters as _register_converters\n",
      "Using TensorFlow backend.\n"
     ]
    }
   ],
   "source": [
    "import numpy as np\n",
    "import matplotlib.pdata:image/png;base64,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 as plt\n",
    "\n",
    "import ailabtools.statistic as st\n",
    "from ailabtools.keras.pairgenerator import PairDataGenerator\n",
    "\n",
    "import keras\n",
    "from keras.applications.mobilenetv2 import MobileNetV2\n",
    "from keras.layers import Dense, Activation, GlobalAveragePooling2D\n",
    "from keras.models import Model"
   ]
  },
  {
   "cell_type": "code",
   "execution_count": 18,
   "metadata": {},
   "outputs": [
    {
     "name": "stdout",
     "output_type": "stream",
     "text": [
      "Raw data dict sum: 2689\n"
     ]
    },
    {
     "data": {
      "image/png": "[encoded data removed]",
      "text/plain": [
       "<matplotlib.figure.Figure at 0x7f1d31d3f358>"
      ]
     },
     "metadata": {},
     "output_type": "display_data"
    },
    {
     "name": "stdout",
     "output_type": "stream",
     "text": [
      "[512, 901, 1276]\n",
      "(3, 'min:', 512, 'max:', 1276, 'std:', 311.91914906840134, 'mean:', 896.3333333333334, 'median:', 901.0)\n"
     ]
    }
   ],
   "source": [
    "data_path = '/media/cpu11128-local/Database/data_test_11_face_size/val'\n",
    "xs, ys = st.get_raw_data(data_path)\n",
    "_,_,_  = st.statistic_data(xs, ys, title='Raw data dict')"
   ]
  },
  {
   "cell_type": "code",
   "execution_count": 13,
   "metadata": {},
   "outputs": [
    {
     "name": "stdout",
     "output_type": "stream",
     "text": [
      "Sample Train sum: 2149\n"
     ]
    },
    {
     "data": {
      "image/png": "[encoded data removed]",
      "text/plain": [
       "<matplotlib.figure.Figure at 0x7f1d31d620b8>"
      ]
     },
     "metadata": {},
     "output_type": "display_data"
    },
    {
     "name": "stdout",
     "output_type": "stream",
     "text": [
      "[409, 720, 1020]\n",
      "(3, 'min:', 409, 'max:', 1020, 'std:', 249.45317975301273, 'mean:', 716.3333333333334, 'median:', 720.0)\n",
      "Sample Val sum: 540\n"
     ]
    },
    {
     "data": {
      "image/png": "[encoded data removed]",
      "text/plain": [
       "<matplotlib.figure.Figure at 0x7f1d31d1e6d8>"
      ]
     },
     "metadata": {},
     "output_type": "display_data"
    },
    {
     "name": "stdout",
     "output_type": "stream",
     "text": [
      "[103, 181, 256]\n",
      "(3, 'min:', 103, 'max:', 256, 'std:', 62.465990746965666, 'mean:', 180.0, 'median:', 181.0)\n"
     ]
    }
   ],
   "source": [
    "xs_train, ys_train, xs_val, ys_val = st.split_data(xs, ys, alpha=0.8)\n",
    "data_dic_train, keys_train, nums_train = st.statistic_data(xs_train, ys_train, title='Sample Train')\n",
    "data_dic_val, keys_val, nums_val = st.statistic_data(xs_val, ys_val, title='Sample Val')"
   ]
  },
  {
   "cell_type": "code",
   "execution_count": 4,
   "metadata": {},
   "outputs": [
    {
     "data": {
      "image/png": "[encoded data removed]",
      "text/plain": [
       "<matplotlib.figure.Figure at 0x7f0b0fce9518>"
      ]
     },
     "metadata": {},
     "output_type": "display_data"
    }
   ],
   "source": [
    "weights_dict = st.get_weight_dict(xs_train, ys_train, multiply=3)\n",
    "ks = list(weights_dict.keys())\n",
    "plt.bar(ks, [weights_dict[k] for k in ks])\n",
    "plt.show()\n",
    "\n",
    "weights_dict_int = {}\n",
    "for k in weights_dict:\n",
    "    weights_dict_int[int(k)] = weights_dict[k]"
   ]
  },
  {
   "cell_type": "code",
   "execution_count": 5,
   "metadata": {},
   "outputs": [],
   "source": [
    "train_gen = PairDataGenerator(rotation_range=20,\n",
    "                            width_shift_range=0.2,\n",
    "                            height_shift_range=0.2,\n",
    "                            horizontal_flip=True)\n",
    "val_gen = PairDataGenerator()"
   ]
  },
  {
   "cell_type": "code",
   "execution_count": 6,
   "metadata": {},
   "outputs": [],
   "source": [
    "input_shape = (224, 224, 3)\n",
    "base = MobileNetV2(input_shape=input_shape, include_top=False)\n",
    "x = base.layers[-1].output\n",
    "x = GlobalAveragePooling2D()(x)\n",
    "x = Dense(3)(x)\n",
    "x = Activation('softmax')(x)\n",
    "model = Model(base.inputs, x)"
   ]
  },
  {
   "cell_type": "code",
   "execution_count": null,
   "metadata": {},
   "outputs": [
    {
     "name": "stdout",
     "output_type": "stream",
     "text": [
      "Found 2149 images belonging to 3 classes.\n",
      "Found 540 images belonging to 3 classes.\n",
      "Epoch 1/10\n",
      "  4/135 [..............................] - ETA: 14:49 - loss: 1.0471"
     ]
    },
    {
     "name": "stderr",
     "output_type": "stream",
     "text": [
      "Process ForkPoolWorker-3:\n",
      "Process ForkPoolWorker-4:\n",
      "Process ForkPoolWorker-5:\n",
      "Process ForkPoolWorker-6:\n",
      "Traceback (most recent call last):\n",
      "Traceback (most recent call last):\n",
      "Process ForkPoolWorker-2:\n",
      "Process ForkPoolWorker-8:\n",
      "Process ForkPoolWorker-7:\n",
      "Process ForkPoolWorker-1:\n",
      "  File \"/usr/lib/python3.5/multiprocessing/process.py\", line 249, in _bootstrap\n",
      "    self.run()\n",
      "Traceback (most recent call last):\n",
      "Traceback (most recent call last):\n",
      "Traceback (most recent call last):\n",
      "Traceback (most recent call last):\n",
      "  File \"/usr/lib/python3.5/multiprocessing/process.py\", line 249, in _bootstrap\n",
      "    self.run()\n",
      "Traceback (most recent call last):\n",
      "  File \"/usr/lib/python3.5/multiprocessing/process.py\", line 249, in _bootstrap\n",
      "    self.run()\n",
      "  File \"/usr/lib/python3.5/multiprocessing/process.py\", line 249, in _bootstrap\n",
      "    self.run()\n",
      "  File \"/usr/lib/python3.5/multiprocessing/process.py\", line 93, in run\n",
      "    self._target(*self._args, **self._kwargs)\n",
      "  File \"/usr/lib/python3.5/multiprocessing/process.py\", line 249, in _bootstrap\n",
      "    self.run()\n",
      "  File \"/usr/lib/python3.5/multiprocessing/process.py\", line 93, in run\n",
      "    self._target(*self._args, **self._kwargs)\n",
      "  File \"/usr/lib/python3.5/multiprocessing/process.py\", line 249, in _bootstrap\n",
      "    self.run()\n",
      "  File \"/usr/lib/python3.5/multiprocessing/process.py\", line 93, in run\n",
      "    self._target(*self._args, **self._kwargs)\n",
      "  File \"/usr/lib/python3.5/multiprocessing/process.py\", line 93, in run\n",
      "    self._target(*self._args, **self._kwargs)\n",
      "  File \"/usr/lib/python3.5/multiprocessing/process.py\", line 93, in run\n",
      "    self._target(*self._args, **self._kwargs)\n",
      "  File \"/usr/lib/python3.5/multiprocessing/pool.py\", line 108, in worker\n",
      "    task = get()\n",
      "  File \"/usr/lib/python3.5/multiprocessing/process.py\", line 249, in _bootstrap\n",
      "    self.run()\n",
      "  File \"/usr/lib/python3.5/multiprocessing/pool.py\", line 108, in worker\n",
      "    task = get()\n",
      "  File \"/usr/lib/python3.5/multiprocessing/pool.py\", line 108, in worker\n",
      "    task = get()\n",
      "  File \"/usr/lib/python3.5/multiprocessing/process.py\", line 93, in run\n",
      "    self._target(*self._args, **self._kwargs)\n",
      "  File \"/usr/lib/python3.5/multiprocessing/pool.py\", line 108, in worker\n",
      "    task = get()\n",
      "  File \"/usr/lib/python3.5/multiprocessing/pool.py\", line 108, in worker\n",
      "    task = get()\n",
      "  File \"/usr/lib/python3.5/multiprocessing/process.py\", line 93, in run\n",
      "    self._target(*self._args, **self._kwargs)\n",
      "  File \"/usr/lib/python3.5/multiprocessing/queues.py\", line 342, in get\n",
      "    with self._rlock:\n",
      "  File \"/usr/lib/python3.5/multiprocessing/queues.py\", line 342, in get\n",
      "    with self._rlock:\n",
      "  File \"/usr/lib/python3.5/multiprocessing/pool.py\", line 108, in worker\n",
      "    task = get()\n",
      "  File \"/usr/lib/python3.5/multiprocessing/pool.py\", line 108, in worker\n",
      "    task = get()\n",
      "  File \"/usr/lib/python3.5/multiprocessing/queues.py\", line 343, in get\n",
      "    res = self._reader.recv_bytes()\n",
      "Traceback (most recent call last):\n",
      "  File \"/usr/lib/python3.5/multiprocessing/synchronize.py\", line 96, in __enter__\n",
      "    return self._semlock.__enter__()\n",
      "  File \"/usr/lib/python3.5/multiprocessing/queues.py\", line 342, in get\n",
      "    with self._rlock:\n",
      "  File \"/usr/lib/python3.5/multiprocessing/queues.py\", line 342, in get\n",
      "    with self._rlock:\n",
      "  File \"/usr/lib/python3.5/multiprocessing/queues.py\", line 342, in get\n",
      "    with self._rlock:\n",
      "  File \"/usr/lib/python3.5/multiprocessing/synchronize.py\", line 96, in __enter__\n",
      "    return self._semlock.__enter__()\n",
      "  File \"/usr/lib/python3.5/multiprocessing/synchronize.py\", line 96, in __enter__\n",
      "    return self._semlock.__enter__()\n",
      "  File \"/usr/lib/python3.5/multiprocessing/process.py\", line 249, in _bootstrap\n",
      "    self.run()\n",
      "  File \"/usr/lib/python3.5/multiprocessing/queues.py\", line 343, in get\n",
      "    res = self._reader.recv_bytes()\n",
      "  File \"/usr/lib/python3.5/multiprocessing/connection.py\", line 216, in recv_bytes\n",
      "    buf = self._recv_bytes(maxlength)\n",
      "KeyboardInterrupt\n",
      "  File \"/usr/lib/python3.5/multiprocessing/synchronize.py\", line 96, in __enter__\n",
      "    return self._semlock.__enter__()\n",
      "  File \"/usr/lib/python3.5/multiprocessing/process.py\", line 93, in run\n",
      "    self._target(*self._args, **self._kwargs)\n",
      "  File \"/usr/lib/python3.5/multiprocessing/synchronize.py\", line 96, in __enter__\n",
      "    return self._semlock.__enter__()\n",
      "  File \"/usr/lib/python3.5/multiprocessing/connection.py\", line 407, in _recv_bytes\n",
      "    buf = self._recv(4)\n",
      "KeyboardInterrupt\n",
      "KeyboardInterrupt\n",
      "  File \"/usr/lib/python3.5/multiprocessing/connection.py\", line 379, in _recv\n",
      "    chunk = read(handle, remaining)\n",
      "KeyboardInterrupt\n",
      "  File \"/usr/lib/python3.5/multiprocessing/pool.py\", line 108, in worker\n",
      "    task = get()\n",
      "KeyboardInterrupt\n",
      "  File \"/usr/lib/python3.5/multiprocessing/connection.py\", line 216, in recv_bytes\n",
      "    buf = self._recv_bytes(maxlength)\n",
      "  File \"/usr/lib/python3.5/multiprocessing/connection.py\", line 407, in _recv_bytes\n",
      "    buf = self._recv(4)\n",
      "KeyboardInterrupt\n",
      "  File \"/usr/lib/python3.5/multiprocessing/queues.py\", line 342, in get\n",
      "    with self._rlock:\n",
      "  File \"/usr/lib/python3.5/multiprocessing/connection.py\", line 379, in _recv\n",
      "    chunk = read(handle, remaining)\n",
      "KeyboardInterrupt\n",
      "  File \"/usr/lib/python3.5/multiprocessing/synchronize.py\", line 96, in __enter__\n",
      "    return self._semlock.__enter__()\n",
      "KeyboardInterrupt\n"
     ]
    }
   ],
   "source": [
    "model.compile(optimizer='sgd', loss='categorical_crossentropy')\n",
    "model.fit_generator(train_gen.flow_from_pair(xs_train, ys_train, batch_size=16, target_size=input_shape[:2]),\n",
    "                    validation_data=val_gen.flow_from_pair(xs_val, ys_val, batch_size=16, target_size=input_shape[:2]),\n",
    "                    epochs = 10, \n",
    "                    class_weight=weights_dict_int, \n",
    "                    workers=4, \n",
    "                    use_multiprocessing=True)"
   ]
  },
  {
   "cell_type": "code",
   "execution_count": null,
   "metadata": {},
   "outputs": [],
   "source": []
  }
 ],
 "metadata": {
  "kernelspec": {
   "display_name": "Python 3",
   "language": "python",
   "name": "python3"
  },
  "language_info": {
   "codemirror_mode": {
    "name": "ipython",
    "version": 3
   },
   "file_extension": ".py",
   "mimetype": "text/x-python",
   "name": "python",
   "nbconvert_exporter": "python",
   "pygments_lexer": "ipython3",
   "version": "3.5.2"
  }
 },
 "nbformat": 4,
 "nbformat_minor": 2
}
